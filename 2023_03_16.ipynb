{
  "nbformat": 4,
  "nbformat_minor": 0,
  "metadata": {
    "colab": {
      "provenance": [],
      "authorship_tag": "ABX9TyPg8qHJIS2PUK5E9+kJDAPr",
      "include_colab_link": true
    },
    "kernelspec": {
      "name": "python3",
      "display_name": "Python 3"
    },
    "language_info": {
      "name": "python"
    }
  },
  "cells": [
    {
      "cell_type": "markdown",
      "metadata": {
        "id": "view-in-github",
        "colab_type": "text"
      },
      "source": [
        "<a href=\"https://colab.research.google.com/github/manmini87/Python_test/blob/main/2023_03_16.ipynb\" target=\"_parent\"><img src=\"https://colab.research.google.com/assets/colab-badge.svg\" alt=\"Open In Colab\"/></a>"
      ]
    },
    {
      "cell_type": "code",
      "execution_count": null,
      "metadata": {
        "id": "hc5NKtNk6qyb"
      },
      "outputs": [],
      "source": [
        "print(\"Hello, world!\")"
      ]
    },
    {
      "cell_type": "code",
      "source": [
        "print(\"Hello\"); print(\"1234\")"
      ],
      "metadata": {
        "id": "4RZJf6pa7Sv3"
      },
      "execution_count": null,
      "outputs": []
    },
    {
      "cell_type": "code",
      "source": [
        "print(1 + 1, 1 - 2, 2 * 2, 5 / 2, 5 // 2, 5 % 2, 2 ** 10)"
      ],
      "metadata": {
        "id": "83-2lhpi7S1p"
      },
      "execution_count": null,
      "outputs": []
    },
    {
      "cell_type": "code",
      "source": [
        "x = 10\n",
        "\n",
        "x"
      ],
      "metadata": {
        "id": "4CSsDgkK7S4Y"
      },
      "execution_count": null,
      "outputs": []
    },
    {
      "cell_type": "code",
      "source": [
        "x = None\n",
        "\n",
        "print(x)"
      ],
      "metadata": {
        "id": "fEv-bDiA7S7H"
      },
      "execution_count": null,
      "outputs": []
    },
    {
      "cell_type": "code",
      "source": [
        "x = 30 + 40\n",
        "\n",
        "x"
      ],
      "metadata": {
        "id": "cP5qtPQl7S9v"
      },
      "execution_count": null,
      "outputs": []
    },
    {
      "cell_type": "code",
      "source": [
        "x, y, z = 10, 20, 30\n",
        "\n",
        "print(x)\n",
        "print(y)\n",
        "print(z)"
      ],
      "metadata": {
        "id": "iKggvzQo8xlO"
      },
      "execution_count": null,
      "outputs": []
    },
    {
      "cell_type": "code",
      "source": [
        "x = y = z = 10\n",
        "\n",
        "print(x)\n",
        "print(y)\n",
        "print(z)"
      ],
      "metadata": {
        "id": "wM6Eykke8xuJ"
      },
      "execution_count": null,
      "outputs": []
    },
    {
      "cell_type": "code",
      "source": [
        "x = 10\n",
        "y = x\n",
        "\n",
        "y"
      ],
      "metadata": {
        "id": "03o0_ANq8x2i"
      },
      "execution_count": null,
      "outputs": []
    },
    {
      "cell_type": "code",
      "source": [
        "a, b = 10, 20\n",
        "x, y, = a, b\n",
        "\n",
        "print(x)\n",
        "print(y)"
      ],
      "metadata": {
        "id": "myqH6OYv-Cnf"
      },
      "execution_count": null,
      "outputs": []
    },
    {
      "cell_type": "code",
      "source": [
        "x = 10\n",
        "y = 20\n",
        "x, y = y, x\n",
        "\n",
        "print(x)\n",
        "print(y)"
      ],
      "metadata": {
        "id": "aQcoZ3Qu-Ldp"
      },
      "execution_count": null,
      "outputs": []
    },
    {
      "cell_type": "code",
      "source": [
        "hello = \"Hello, world!\"\n",
        "\n",
        "print(hello)"
      ],
      "metadata": {
        "id": "LvQKbWU0-LgQ"
      },
      "execution_count": null,
      "outputs": []
    },
    {
      "cell_type": "code",
      "source": [
        "hello = \"\"\"Hello, world!\n",
        "안녕하세요.\n",
        "Python입니다.\"\"\"\n",
        "\n",
        "print(hello)"
      ],
      "metadata": {
        "id": "wcFwfx7V-Liz"
      },
      "execution_count": null,
      "outputs": []
    },
    {
      "cell_type": "code",
      "source": [
        "print(\"Hello, 'Python'\")"
      ],
      "metadata": {
        "id": "RxWXOMba-Llg"
      },
      "execution_count": null,
      "outputs": []
    },
    {
      "cell_type": "code",
      "source": [
        "hello = \"Hello, \"\n",
        "world = \"world!\"\n",
        "\n",
        "hello + world"
      ],
      "metadata": {
        "id": "UIJafgpb_IEr"
      },
      "execution_count": null,
      "outputs": []
    },
    {
      "cell_type": "code",
      "source": [
        "hello * 3"
      ],
      "metadata": {
        "id": "cY9pUAql_IOR"
      },
      "execution_count": null,
      "outputs": []
    },
    {
      "cell_type": "code",
      "source": [
        "\"Hello, \" + str(10)"
      ],
      "metadata": {
        "id": "7l5jxsYX_IQu"
      },
      "execution_count": null,
      "outputs": []
    },
    {
      "cell_type": "code",
      "source": [
        "input()"
      ],
      "metadata": {
        "id": "_-I-2_fE_ITQ"
      },
      "execution_count": null,
      "outputs": []
    },
    {
      "cell_type": "code",
      "source": [
        "input(\"문자열을 입력하세요: \")"
      ],
      "metadata": {
        "id": "iBcpLSEd_IWG"
      },
      "execution_count": null,
      "outputs": []
    },
    {
      "cell_type": "code",
      "source": [
        "s = input(\"문자열을 입력하세요: \")\n",
        "\n",
        "print(s)"
      ],
      "metadata": {
        "id": "LqCYZ-1T_IYp"
      },
      "execution_count": null,
      "outputs": []
    },
    {
      "cell_type": "code",
      "source": [
        "a = input(\"첫 번째 숫자를 입력하세요: \")\n",
        "b = input(\"두 번째 숫자를 입력하세요: \")\n",
        "\n",
        "print(a + b)"
      ],
      "metadata": {
        "id": "2rtYGvH0_IbH"
      },
      "execution_count": null,
      "outputs": []
    },
    {
      "cell_type": "code",
      "source": [
        "a = int(input(\"첫 번째 숫자를 입력하세요: \"))\n",
        "b = int(input(\"두 번째 숫자를 입력하세요: \"))\n",
        "\n",
        "print(a + b)"
      ],
      "metadata": {
        "id": "s4QkZM8jBMmF"
      },
      "execution_count": null,
      "outputs": []
    },
    {
      "cell_type": "code",
      "source": [
        "print(int(3.5))\n",
        "print(int(-3.5))"
      ],
      "metadata": {
        "id": "Yf2BsEGeBMop"
      },
      "execution_count": null,
      "outputs": []
    },
    {
      "cell_type": "code",
      "source": [
        "print(\"Hello\", \"Python\")\n",
        "print(\"Hello\" + \"Python\")"
      ],
      "metadata": {
        "id": "CUKTjPFuBMrG"
      },
      "execution_count": null,
      "outputs": []
    },
    {
      "cell_type": "code",
      "source": [
        "print(1, 2, 3)\n",
        "print(1, 2, 3, sep = \", \")"
      ],
      "metadata": {
        "id": "lXmj68K5B5lp"
      },
      "execution_count": null,
      "outputs": []
    },
    {
      "cell_type": "code",
      "source": [
        "print(1, 2, 3, sep = \"\\n\")"
      ],
      "metadata": {
        "id": "H428TnIuCHDE"
      },
      "execution_count": null,
      "outputs": []
    },
    {
      "cell_type": "code",
      "source": [
        "print(1)\n",
        "print(2)\n",
        "print(3)\n",
        "\n",
        "print(1, end = \"\")\n",
        "print(2, end = \"\")\n",
        "print(3)"
      ],
      "metadata": {
        "id": "HgRjUY9rCOGQ"
      },
      "execution_count": null,
      "outputs": []
    },
    {
      "cell_type": "code",
      "source": [
        "print(1, 2, 3, sep = \" \", end = \" \")\n",
        "print(4, 5, 6, sep = \" \")"
      ],
      "metadata": {
        "id": "kaGTIKleCZ5n"
      },
      "execution_count": null,
      "outputs": []
    },
    {
      "cell_type": "code",
      "source": [
        "a = 10\n",
        "b = 20\n",
        "a += b\n",
        "\n",
        "a"
      ],
      "metadata": {
        "id": "ocNOQ1ulCZ8H"
      },
      "execution_count": null,
      "outputs": []
    },
    {
      "cell_type": "code",
      "source": [
        "print(3 > 1, 10 == 10, 10 != 5, 10 > 20, 10 < 20, 10 >= 10, 10 <= 10)"
      ],
      "metadata": {
        "id": "b8GfOcpiCZ_D"
      },
      "execution_count": null,
      "outputs": []
    },
    {
      "cell_type": "code",
      "source": [
        "print(True and True)\n",
        "print(True and False)\n",
        "print(False and False)"
      ],
      "metadata": {
        "id": "TIMrFmckDnZ0"
      },
      "execution_count": null,
      "outputs": []
    },
    {
      "cell_type": "code",
      "source": [
        "print(True or True)\n",
        "print(True or False)\n",
        "print(False or False)"
      ],
      "metadata": {
        "id": "OfYC_n8tDnce"
      },
      "execution_count": null,
      "outputs": []
    },
    {
      "cell_type": "code",
      "source": [
        "print(not True)\n",
        "print(not False)"
      ],
      "metadata": {
        "id": "ypu80gvpDnfl"
      },
      "execution_count": null,
      "outputs": []
    }
  ]
}